{
 "cells": [
  {
   "cell_type": "code",
   "execution_count": 11,
   "metadata": {},
   "outputs": [
    {
     "name": "stdout",
     "output_type": "stream",
     "text": [
      "Train on 22451 samples, validate on 2495 samples\n",
      "Epoch 1/10\n",
      "22451/22451 [==============================] - 11s 511us/sample - loss: 0.6024 - accuracy: 0.6692 - val_loss: 0.5519 - val_accuracy: 0.7202\n",
      "Epoch 2/10\n",
      "22451/22451 [==============================] - 15s 675us/sample - loss: 0.5084 - accuracy: 0.7514 - val_loss: 0.4765 - val_accuracy: 0.7719\n",
      "Epoch 3/10\n",
      "22451/22451 [==============================] - 13s 585us/sample - loss: 0.4656 - accuracy: 0.7796 - val_loss: 0.4981 - val_accuracy: 0.7455\n",
      "Epoch 4/10\n",
      "22451/22451 [==============================] - 14s 646us/sample - loss: 0.4310 - accuracy: 0.8029 - val_loss: 0.4687 - val_accuracy: 0.7651s - loss: 0\n",
      "Epoch 5/10\n",
      "22451/22451 [==============================] - 13s 597us/sample - loss: 0.3997 - accuracy: 0.8212 - val_loss: 0.4459 - val_accuracy: 0.7824\n",
      "Epoch 6/10\n",
      "22451/22451 [==============================] - 15s 655us/sample - loss: 0.3665 - accuracy: 0.8356 - val_loss: 0.5286 - val_accuracy: 0.7495\n",
      "Epoch 7/10\n",
      "22451/22451 [==============================] - 15s 652us/sample - loss: 0.3326 - accuracy: 0.8528 - val_loss: 0.4523 - val_accuracy: 0.7924\n",
      "Epoch 8/10\n",
      "22451/22451 [==============================] - 15s 649us/sample - loss: 0.2969 - accuracy: 0.8703 - val_loss: 0.4665 - val_accuracy: 0.7960\n",
      "Epoch 9/10\n",
      "22451/22451 [==============================] - 15s 648us/sample - loss: 0.2508 - accuracy: 0.8938 - val_loss: 0.4839 - val_accuracy: 0.7992\n",
      "Epoch 10/10\n",
      "22451/22451 [==============================] - 16s 709us/sample - loss: 0.2084 - accuracy: 0.9139 - val_loss: 0.5477 - val_accuracy: 0.7920\n"
     ]
    },
    {
     "data": {
      "text/plain": [
       "<tensorflow.python.keras.callbacks.History at 0x1ce4c0a2f08>"
      ]
     },
     "execution_count": 11,
     "metadata": {},
     "output_type": "execute_result"
    }
   ],
   "source": [
    "import tensorflow as tf\n",
    "from tensorflow.keras.models import Sequential\n",
    "from tensorflow.keras.layers import Dense, Dropout, Activation, Flatten, Conv2D, MaxPooling2D\n",
    "import pickle\n",
    "import numpy as np\n",
    "\n",
    "X = pickle.load(open(\"X.pickle\",\"rb\"))\n",
    "y = pickle.load(open(\"y.pickle\",\"rb\"))\n",
    "\n",
    "X = X / (255.0)\n",
    "y = np.array(y)\n",
    "model = Sequential()\n",
    "model.add(  Conv2D(64, (3,3), input_shape = X.shape[1:])  )\n",
    "model.add(Activation(\"relu\"))\n",
    "model.add(MaxPooling2D(pool_size=(2,2)))\n",
    "\n",
    "\n",
    "model.add(Conv2D(64, (3,3)))\n",
    "model.add(Activation(\"relu\"))\n",
    "model.add(MaxPooling2D(pool_size=(2,2)))\n",
    "\n",
    "model.add(Flatten())\n",
    "model.add(Dense(64))\n",
    "model.add(Activation(\"relu\"))\n",
    "\n",
    "model.add(Dense(1))\n",
    "model.add(Activation('sigmoid'))\n",
    "\n",
    "model.compile(loss=\"binary_crossentropy\",\n",
    "             optimizer=\"adam\",\n",
    "             metrics=[\"accuracy\"])\n",
    "\n",
    "model.fit(X, y, batch_size=32, validation_split=0.1, epochs=10)"
   ]
  },
  {
   "cell_type": "code",
   "execution_count": 16,
   "metadata": {},
   "outputs": [
    {
     "name": "stdout",
     "output_type": "stream",
     "text": [
      "Train on 22451 samples, validate on 2495 samples\n",
      "Epoch 1/10\n",
      "   32/22451 [..............................] - ETA: 7:20 - loss: 0.6952 - accuracy: 0.5000"
     ]
    },
    {
     "name": "stderr",
     "output_type": "stream",
     "text": [
      "WARNING: Logging before flag parsing goes to stderr.\n",
      "W0511 20:23:36.448078  6588 callbacks.py:248] Method (on_train_batch_end) is slow compared to the batch update (0.162442). Check your callbacks.\n"
     ]
    },
    {
     "name": "stdout",
     "output_type": "stream",
     "text": [
      "\b\b\b\b\b\b\b\b\b\b\b\b\b\b\b\b\b\b\b\b\b\b\b\b\b\b\b\b\b\b\b\b\b\b\b\b\b\b\b\b\b\b\b\b\b\b\b\b\b\b\b\b\b\b\b\b\b\b\b\b\b\b\b\b\b\b\b\b\b\b\b\b\b\b\b\b\b\b\b\b\b\b\b\b\b\b\b\b\b\b\r",
      "   64/22451 [..............................] - ETA: 4:59 - loss: 0.7974 - accuracy: 0.4375"
     ]
    },
    {
     "name": "stderr",
     "output_type": "stream",
     "text": [
      "W0511 20:23:36.465035  6588 callbacks.py:248] Method (on_train_batch_end) is slow compared to the batch update (0.113579). Check your callbacks.\n"
     ]
    },
    {
     "name": "stdout",
     "output_type": "stream",
     "text": [
      "22451/22451 [==============================] - 12s 547us/sample - loss: 0.6406 - accuracy: 0.6177 - val_loss: 0.5782 - val_accuracy: 0.6954\n",
      "Epoch 2/10\n",
      "22451/22451 [==============================] - 12s 555us/sample - loss: 0.5276 - accuracy: 0.7364 - val_loss: 0.4957 - val_accuracy: 0.7619\n",
      "Epoch 3/10\n",
      "22451/22451 [==============================] - 12s 552us/sample - loss: 0.4740 - accuracy: 0.7739 - val_loss: 0.4796 - val_accuracy: 0.7711\n",
      "Epoch 4/10\n",
      "22451/22451 [==============================] - 12s 519us/sample - loss: 0.4402 - accuracy: 0.7946 - val_loss: 0.4829 - val_accuracy: 0.7743\n",
      "Epoch 5/10\n",
      "22451/22451 [==============================] - 12s 536us/sample - loss: 0.4053 - accuracy: 0.8146 - val_loss: 0.4875 - val_accuracy: 0.7707\n",
      "Epoch 6/10\n",
      "22451/22451 [==============================] - 13s 577us/sample - loss: 0.3714 - accuracy: 0.8348 - val_loss: 0.4683 - val_accuracy: 0.7856\n",
      "Epoch 7/10\n",
      "22451/22451 [==============================] - 16s 719us/sample - loss: 0.3296 - accuracy: 0.8524 - val_loss: 0.4582 - val_accuracy: 0.7956\n",
      "Epoch 8/10\n",
      "22451/22451 [==============================] - 17s 765us/sample - loss: 0.2944 - accuracy: 0.8737 - val_loss: 0.4666 - val_accuracy: 0.7956\n",
      "Epoch 9/10\n",
      "22451/22451 [==============================] - 11s 510us/sample - loss: 0.2539 - accuracy: 0.8917 - val_loss: 0.5103 - val_accuracy: 0.7900\n",
      "Epoch 10/10\n",
      "22451/22451 [==============================] - 15s 648us/sample - loss: 0.2134 - accuracy: 0.9128 - val_loss: 0.5397 - val_accuracy: 0.7896\n"
     ]
    },
    {
     "data": {
      "text/plain": [
       "<tensorflow.python.keras.callbacks.History at 0x1cf56a5da08>"
      ]
     },
     "execution_count": 16,
     "metadata": {},
     "output_type": "execute_result"
    }
   ],
   "source": [
    "#Using TensorBoard for analysis\n",
    "\n",
    "import tensorflow as tf\n",
    "from tensorflow.keras.models import Sequential\n",
    "from tensorflow.keras.layers import Dense, Dropout, Activation, Flatten, Conv2D, MaxPooling2D\n",
    "import pickle\n",
    "import numpy as np\n",
    "from tensorflow.keras.preprocessing.image import ImageDataGenerator\n",
    "from tensorflow.keras.datasets import cifar10\n",
    "from tensorflow.keras.callbacks import TensorBoard\n",
    "import time\n",
    "\n",
    "NAME = \"Cats-vs-dog-cnn-64x2-{}\".format(int(time.time()))\n",
    "\n",
    "tensorboard = TensorBoard(log_dir='logs')\n",
    "\n",
    "X = pickle.load(open(\"X.pickle\",\"rb\"))\n",
    "y = pickle.load(open(\"y.pickle\",\"rb\"))\n",
    "\n",
    "X = X / (255.0)\n",
    "y = np.array(y)\n",
    "model = Sequential()\n",
    "model.add(  Conv2D(64, (3,3), input_shape = X.shape[1:])  )\n",
    "model.add(Activation(\"relu\"))\n",
    "model.add(MaxPooling2D(pool_size=(2,2)))\n",
    "\n",
    "\n",
    "model.add(Conv2D(64, (3,3)))\n",
    "model.add(Activation(\"relu\"))\n",
    "model.add(MaxPooling2D(pool_size=(2,2)))\n",
    "\n",
    "model.add(Flatten())\n",
    "model.add(Dense(64))\n",
    "model.add(Activation(\"relu\"))\n",
    "\n",
    "model.add(Dense(1))\n",
    "model.add(Activation('sigmoid'))\n",
    "\n",
    "model.compile(loss=\"binary_crossentropy\",\n",
    "             optimizer=\"adam\",\n",
    "             metrics=[\"accuracy\"])\n",
    "\n",
    "model.fit(X, y, batch_size=32, validation_split=0.1, epochs=10, callbacks=[tensorboard])"
   ]
  },
  {
   "cell_type": "code",
   "execution_count": null,
   "metadata": {},
   "outputs": [],
   "source": []
  },
  {
   "cell_type": "code",
   "execution_count": null,
   "metadata": {},
   "outputs": [],
   "source": []
  }
 ],
 "metadata": {
  "kernelspec": {
   "display_name": "gputest",
   "language": "python",
   "name": "gputest"
  },
  "language_info": {
   "codemirror_mode": {
    "name": "ipython",
    "version": 3
   },
   "file_extension": ".py",
   "mimetype": "text/x-python",
   "name": "python",
   "nbconvert_exporter": "python",
   "pygments_lexer": "ipython3",
   "version": "3.7.7"
  }
 },
 "nbformat": 4,
 "nbformat_minor": 4
}
